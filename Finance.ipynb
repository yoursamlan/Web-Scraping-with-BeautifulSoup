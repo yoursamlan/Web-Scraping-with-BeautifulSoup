{
 "cells": [
  {
   "cell_type": "code",
   "execution_count": 1,
   "metadata": {},
   "outputs": [],
   "source": [
    "import requests, io, time, datetime\n",
    "from bs4 import BeautifulSoup\n",
    "URL=\"https://in.finance.yahoo.com/quote/%5EBSESN/history?p=%5EBSESN\"\n",
    "headers = {\"User-Agent\": 'Mozilla/5.0 (Windows NT 10.0; Win64; x64) AppleWebKit/537.36 (KHTML, like Gecko) Chrome/76.0.3809.132 Safari/537.36'}\n",
    "html_page = requests.get(URL).text\n",
    "soup = BeautifulSoup (html_page, 'lxml')\n",
    "finance = soup.findAll(\"section\", { \"class\" : \"smartphone_Px(20px)\" })\n",
    "open(\"table1.html\", \"w\").close()\n",
    "with io.open(\"table1.html\", \"w\",encoding=\"utf-8\") as htmlfile:\n",
    "        htmlfile.write(str(finance))\n",
    "htmlfile.close()"
   ]
  },
  {
   "cell_type": "code",
   "execution_count": null,
   "metadata": {},
   "outputs": [],
   "source": []
  },
  {
   "cell_type": "code",
   "execution_count": null,
   "metadata": {},
   "outputs": [],
   "source": []
  }
 ],
 "metadata": {
  "kernelspec": {
   "display_name": "Python 3",
   "language": "python",
   "name": "python3"
  },
  "language_info": {
   "codemirror_mode": {
    "name": "ipython",
    "version": 3
   },
   "file_extension": ".py",
   "mimetype": "text/x-python",
   "name": "python",
   "nbconvert_exporter": "python",
   "pygments_lexer": "ipython3",
   "version": "3.7.4"
  }
 },
 "nbformat": 4,
 "nbformat_minor": 2
}
